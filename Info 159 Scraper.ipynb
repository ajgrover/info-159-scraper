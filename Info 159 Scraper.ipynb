{
 "cells": [
  {
   "cell_type": "code",
   "execution_count": 25,
   "metadata": {},
   "outputs": [],
   "source": [
    "import numpy as np\n",
    "import os\n",
    "import requests\n",
    "from bs4 import BeautifulSoup\n",
    "import smtplib\n",
    "from email.message import EmailMessage"
   ]
  },
  {
   "cell_type": "code",
   "execution_count": 26,
   "metadata": {},
   "outputs": [],
   "source": [
    "URL = \"https://classes.berkeley.edu/search/class/info%20159?retain-filters=1&f%5B0%5D=im_field_term_name%3A2885&f%5B1%5D=ts_course_level%3Aup\"\n",
    "page = requests.get(URL)\n",
    "soup = BeautifulSoup(page.content, \"html.parser\")"
   ]
  },
  {
   "cell_type": "code",
   "execution_count": 27,
   "metadata": {},
   "outputs": [
    {
     "data": {
      "text/plain": [
       "False"
      ]
     },
     "execution_count": 27,
     "metadata": {},
     "output_type": "execute_result"
    }
   ],
   "source": [
    "def find_class(name_desired: str):\n",
    "    top_classes = []\n",
    "    for data in soup.find_all('div', {'data-json': True}):\n",
    "        text = data['data-json']\n",
    "        data_dict = eval(text.replace('false', 'False').replace('true', 'True'))\n",
    "        class_name = data_dict.get('displayName')\n",
    "        if class_name:\n",
    "            top_classes.append(class_name)\n",
    "    return any([name_desired in text for text in top_classes])\n",
    "\n",
    "find_class(\"INFO 159\")"
   ]
  },
  {
   "cell_type": "code",
   "execution_count": 29,
   "metadata": {},
   "outputs": [
    {
     "data": {
      "text/plain": [
       "(221,\n",
       " b'2.0.0 closing connection iw20-20020a170903045400b001b89891bfc4sm2927663plb.199 - gsmtp')"
      ]
     },
     "execution_count": 29,
     "metadata": {},
     "output_type": "execute_result"
    }
   ],
   "source": [
    "file = open('private.txt')\n",
    "GMAIL_USERNAME, GMAIL_PASSWORD = file.readlines()\n",
    "GMAIL_USERNAME.strip()\n",
    "GMAIL_PASSWORD.strip()\n",
    "\n",
    "\n",
    "msg = EmailMessage()\n",
    "msg.set_content(f\"Info 159 has been posted!! Go sign up! \\n {URL}\")\n",
    "\n",
    "msg['Subject'] = 'Info 159!!'\n",
    "msg['To'] = GMAIL_USERNAME\n",
    "\n",
    "# Send the message via our own SMTP server.\n",
    "server = smtplib.SMTP_SSL('smtp.gmail.com', 465)\n",
    "server.login(GMAIL_USERNAME, GMAIL_PASSWORD)\n",
    "server.send_message(msg)\n",
    "server.quit()"
   ]
  },
  {
   "cell_type": "code",
   "execution_count": null,
   "metadata": {},
   "outputs": [],
   "source": []
  }
 ],
 "metadata": {
  "kernelspec": {
   "display_name": "Python 3",
   "language": "python",
   "name": "python3"
  },
  "language_info": {
   "codemirror_mode": {
    "name": "ipython",
    "version": 3
   },
   "file_extension": ".py",
   "mimetype": "text/x-python",
   "name": "python",
   "nbconvert_exporter": "python",
   "pygments_lexer": "ipython3",
   "version": "3.9.12"
  }
 },
 "nbformat": 4,
 "nbformat_minor": 2
}
